{
 "cells": [
  {
   "cell_type": "markdown",
   "metadata": {},
   "source": [
    "# Content personalization"
   ]
  },
  {
   "cell_type": "markdown",
   "metadata": {},
   "source": [
    "## Without context"
   ]
  },
  {
   "cell_type": "markdown",
   "metadata": {},
   "source": [
    "This example takes inspiration from Vowpal Wabbit's [excellent tutorial](https://vowpalwabbit.org/tutorials/cb_simulation.html).\n",
    "\n",
    "Content personalization is about taking into account user preferences. It's a special case of recommender systems. Ideally, side-information should be taken into account in addition to the user. But we'll start with something simpler. We'll assume that each user has stable preferences that are independent of the context. We capture this by implementing a \"reward\" function."
   ]
  },
  {
   "cell_type": "code",
   "execution_count": 1,
   "metadata": {
    "execution": {
     "iopub.execute_input": "2022-02-04T11:39:03.967665Z",
     "iopub.status.busy": "2022-02-04T11:39:03.967206Z",
     "iopub.status.idle": "2022-02-04T11:39:03.975030Z",
     "shell.execute_reply": "2022-02-04T11:39:03.975399Z"
    }
   },
   "outputs": [],
   "source": [
    "users = ['Tom', 'Anna']\n",
    "items = {'politics', 'sports', 'music', 'food', 'finance', 'health', 'camping'}\n",
    "\n",
    "def get_reward(user, item) -> bool:\n",
    "    if user == 'Tom':\n",
    "        return item in {'music', 'politics'}\n",
    "    if user == 'Anna':\n",
    "        return item in {'politics', 'sports'}"
   ]
  },
  {
   "cell_type": "markdown",
   "metadata": {},
   "source": [
    "Measuring the performance of a recommendation is not straightforward, mostly because of the interactive aspect of recommender systems. In a real situation, recommendations are presented to a user, and the user gives feedback indicating whether they like what they have been recommended or not. This feedback loop can't be captured entirely by a historical dataset. Some kind of simulator is required to generate recommendations and capture feedback. We already have a reward function. Now let's implement a simulation function."
   ]
  },
  {
   "cell_type": "code",
   "execution_count": 2,
   "metadata": {
    "execution": {
     "iopub.execute_input": "2022-02-04T11:39:03.981889Z",
     "iopub.status.busy": "2022-02-04T11:39:03.981414Z",
     "iopub.status.idle": "2022-02-04T11:39:04.752393Z",
     "shell.execute_reply": "2022-02-04T11:39:04.751477Z"
    }
   },
   "outputs": [],
   "source": [
    "import random\n",
    "import matplotlib.pyplot as plt\n",
    "\n",
    "def plot_ctr(ctr):\n",
    "    plt.plot(range(1, len(ctr) + 1), ctr)\n",
    "    plt.xlabel('n_iterations', fontsize=14)\n",
    "    plt.ylabel('CTR', fontsize=14)\n",
    "    plt.ylim([0, 1])\n",
    "    plt.title(f'final CTR: {ctr[-1]:.2%}', fontsize=14)\n",
    "    plt.grid()\n",
    "\n",
    "def simulate(n, reward_func, model, seed):\n",
    "    \n",
    "    rng = random.Random(seed)\n",
    "    n_clicks = 0\n",
    "    ctr = []  # click-through rate along time\n",
    "    \n",
    "    for i in range(n):\n",
    "        \n",
    "        # Pick a user at random\n",
    "        user = rng.choice(users)\n",
    "        \n",
    "        # Make a single recommendation\n",
    "        item = model.rank(user, items=items)[0]\n",
    "        \n",
    "        # Measure the reward\n",
    "        clicked = reward_func(user, item)\n",
    "        n_clicks += clicked\n",
    "        ctr.append(n_clicks / (i + 1))\n",
    "        \n",
    "        # Update the model\n",
    "        model.learn_one(user, item, clicked)\n",
    "        \n",
    "    plot_ctr(ctr)"
   ]
  },
  {
   "cell_type": "markdown",
   "metadata": {},
   "source": [
    "This simulation function does quite a few things. It can be seen as a simple reinforcement learning simulation. It samples a user, and then ask the model to provide a single recommendation. The user then gives as to whether they liked the recommendation or not. Crucially, the user doesn't tell us what item they would have liked. We could model this as a multi-class classification problem if that were the case.\n",
    "\n",
    "The strategy parameter determines the mechanism used to generate the recommendations. The `'best'` strategy means that the items are each scored by the model, and are then ranked from the most preferred to the least preferred. Here the most preferred item is the one which gets recommended. But you could imagine all sorts of alternative ways to proceed.\n",
    "\n",
    "We can first evaluate a recommended which acts completely at random. It assigns a random preference to each item, regardless of the user."
   ]
  },
  {
   "cell_type": "code",
   "execution_count": 3,
   "metadata": {
    "execution": {
     "iopub.execute_input": "2022-02-04T11:39:04.757067Z",
     "iopub.status.busy": "2022-02-04T11:39:04.756144Z",
     "iopub.status.idle": "2022-02-04T11:39:06.775422Z",
     "shell.execute_reply": "2022-02-04T11:39:06.776469Z"
    }
   },
   "outputs": [
    {
     "data": {
      "image/png": "[encoded data removed]",
      "text/plain": [
       "<Figure size 432x288 with 1 Axes>"
      ]
     },
     "metadata": {
      "needs_background": "light"
     },
     "output_type": "display_data"
    }
   ],
   "source": [
    "from river import reco\n",
    "\n",
    "model = reco.RandomNormal(seed=10)\n",
    "simulate(5_000, get_reward, model, seed=42)"
   ]
  },
  {
   "cell_type": "markdown",
   "metadata": {},
   "source": [
    "We can see that the click-through rate (CTR) oscillates around 28.74%. In fact, this model is expected to be correct `100 * (2 / 7)% = 28.57%` of the time. Indeed, each user likes two items, and there are seven items in total.\n",
    "\n",
    "Let's now use the `Baseline` recommended. This one models each preference as the following sum:\n",
    "\n",
    "$$preference = \\bar{y} + b_{u} + b_{i}$$\n",
    "\n",
    "where\n",
    "\n",
    "- $\\bar{y}$ is the average CTR overall\n",
    "- $b_{u}$ is the average CTR per user minus $\\bar{y}$ -- it's therefore called a *bias*\n",
    "- $b_{i}$ is the average CTR per item minus $\\bar{y}$\n",
    "\n",
    "This model is considered to be a baseline because it doesn't actually learn what items are preferred by each user. Instead it models each user and item separately. We shouldn't expect it to be a strong model. It should however do better than the random model used above."
   ]
  },
  {
   "cell_type": "code",
   "execution_count": 4,
   "metadata": {
    "execution": {
     "iopub.execute_input": "2022-02-04T11:39:06.779300Z",
     "iopub.status.busy": "2022-02-04T11:39:06.778826Z",
     "iopub.status.idle": "2022-02-04T11:39:07.033136Z",
     "shell.execute_reply": "2022-02-04T11:39:07.032374Z"
    }
   },
   "outputs": [
    {
     "data": {
      "image/png": "[encoded data removed]",
      "text/plain": [
       "<Figure size 432x288 with 1 Axes>"
      ]
     },
     "metadata": {
      "needs_background": "light"
     },
     "output_type": "display_data"
    }
   ],
   "source": [
    "model = reco.Baseline(seed=10)\n",
    "simulate(5_000, get_reward, model, seed=42)"
   ]
  },
  {
   "cell_type": "markdown",
   "metadata": {},
   "source": [
    "This baseline model seems perfect, which is surprising. The reason why it works so well is because both users have in common that they both like politics. The model therefore learns that the `'politics'` is a good item to recommend."
   ]
  },
  {
   "cell_type": "code",
   "execution_count": 5,
   "metadata": {
    "execution": {
     "iopub.execute_input": "2022-02-04T11:39:07.037550Z",
     "iopub.status.busy": "2022-02-04T11:39:07.037092Z",
     "iopub.status.idle": "2022-02-04T11:39:07.041196Z",
     "shell.execute_reply": "2022-02-04T11:39:07.041807Z"
    }
   },
   "outputs": [
    {
     "data": {
      "text/plain": [
       "defaultdict(Zeros (),\n",
       "            {'politics': 0.0,\n",
       "             'health': 0.0,\n",
       "             'music': 0.0,\n",
       "             'finance': 0.0,\n",
       "             'food': 0.0,\n",
       "             'camping': 0.0,\n",
       "             'sports': 0.0})"
      ]
     },
     "execution_count": 5,
     "metadata": {},
     "output_type": "execute_result"
    }
   ],
   "source": [
    "model.i_biases"
   ]
  },
  {
   "cell_type": "markdown",
   "metadata": {},
   "source": [
    "The model is not as performant if we use a reward function where both users have different preferences."
   ]
  },
  {
   "cell_type": "code",
   "execution_count": 6,
   "metadata": {
    "execution": {
     "iopub.execute_input": "2022-02-04T11:39:07.070202Z",
     "iopub.status.busy": "2022-02-04T11:39:07.049265Z",
     "iopub.status.idle": "2022-02-04T11:39:07.203316Z",
     "shell.execute_reply": "2022-02-04T11:39:07.204033Z"
    }
   },
   "outputs": [
    {
     "data": {
      "image/png": "[encoded data removed]",
      "text/plain": [
       "<Figure size 432x288 with 1 Axes>"
      ]
     },
     "metadata": {
      "needs_background": "light"
     },
     "output_type": "display_data"
    }
   ],
   "source": [
    "simulate(\n",
    "    5_000,\n",
    "    reward_func=lambda user, item: (\n",
    "        item in {'music', 'politics'} if user == \"Tom\" else\n",
    "        item in {'food', 'sports'}\n",
    "    ),\n",
    "    model=model,\n",
    "    seed=42\n",
    ")"
   ]
  },
  {
   "cell_type": "markdown",
   "metadata": {},
   "source": [
    "A good recommender model should at the very least understand what kind of items each user prefers. One of the simplest and yet performant way to do this is Simon Funk's SGD method he developped for the Netflix challenge and wrote about [here](https://sifter.org/simon/journal/20061211.html). It models each user and each item as latent vectors. The dot product of these two vectors is the expected preference of the user for the item."
   ]
  },
  {
   "cell_type": "code",
   "execution_count": 7,
   "metadata": {
    "execution": {
     "iopub.execute_input": "2022-02-04T11:39:07.209339Z",
     "iopub.status.busy": "2022-02-04T11:39:07.208368Z",
     "iopub.status.idle": "2022-02-04T11:39:07.474941Z",
     "shell.execute_reply": "2022-02-04T11:39:07.475604Z"
    }
   },
   "outputs": [
    {
     "data": {
      "image/png": "[encoded data removed]",
      "text/plain": [
       "<Figure size 432x288 with 1 Axes>"
      ]
     },
     "metadata": {
      "needs_background": "light"
     },
     "output_type": "display_data"
    }
   ],
   "source": [
    "model = reco.FunkMF(seed=10)\n",
    "simulate(5_000, get_reward, model, seed=42)"
   ]
  },
  {
   "cell_type": "markdown",
   "metadata": {},
   "source": [
    "We can see that this model learns what items each user enjoys very well. Of course, there are some caveats. In our simulation, we ask the model to recommend the item most likely to be preferred for each user. Indeed, we rank all the items and pick the item at the top of the list. We do this many times for only two users.\n",
    "\n",
    "This is of course not realistic. Users will get fed up with recommendations if they're always shown the same item. It's important to include diversity into recommendations, and to let the model explore other options instead of always focusing on the item with the highest score. This is where evaluating recommender systems gets tricky: the reward function itself is difficult to model.\n",
    "\n",
    "We will keep ignoring these caveats in this notebook. Instead we will focus on a different concern: making recommendations when context is involved."
   ]
  },
  {
   "cell_type": "markdown",
   "metadata": {},
   "source": [
    "## With context"
   ]
  },
  {
   "cell_type": "markdown",
   "metadata": {},
   "source": [
    "We'll add some context by making it so that user preferences change depending on the time the day. Very simply, preferences might change from morning to afternoon. This is captured by the following reward function."
   ]
  },
  {
   "cell_type": "code",
   "execution_count": 8,
   "metadata": {
    "execution": {
     "iopub.execute_input": "2022-02-04T11:39:07.478341Z",
     "iopub.status.busy": "2022-02-04T11:39:07.477869Z",
     "iopub.status.idle": "2022-02-04T11:39:07.481518Z",
     "shell.execute_reply": "2022-02-04T11:39:07.482090Z"
    }
   },
   "outputs": [],
   "source": [
    "times_of_day = ['morning', 'afternoon']\n",
    "\n",
    "def get_reward(user, item, context):\n",
    "    if user == 'Tom':\n",
    "        if context['time_of_day'] == 'morning':\n",
    "            return item == 'politics'\n",
    "        if context['time_of_day'] == 'afternoon':\n",
    "            return item == 'music'\n",
    "    if user == 'Anna':\n",
    "        if context['time_of_day'] == 'morning':\n",
    "            return item == 'sports'\n",
    "        if context['time_of_day'] == 'afternoon':\n",
    "            return item == 'politics'"
   ]
  },
  {
   "cell_type": "markdown",
   "metadata": {},
   "source": [
    "We have to update our simulation function to generate a random context at each step. We also want our model to use it for recommending items as well as learning."
   ]
  },
  {
   "cell_type": "code",
   "execution_count": 9,
   "metadata": {
    "execution": {
     "iopub.execute_input": "2022-02-04T11:39:07.484361Z",
     "iopub.status.busy": "2022-02-04T11:39:07.483892Z",
     "iopub.status.idle": "2022-02-04T11:39:07.488172Z",
     "shell.execute_reply": "2022-02-04T11:39:07.488637Z"
    }
   },
   "outputs": [],
   "source": [
    "def simulate(n, reward_func, model, seed):\n",
    "    \n",
    "    rng = random.Random(seed)\n",
    "    n_clicks = 0\n",
    "    ctr = []\n",
    "    \n",
    "    for i in range(n):\n",
    "        \n",
    "        user = rng.choice(users)\n",
    "        \n",
    "        # New: pass a context\n",
    "        context = {'time_of_day': rng.choice(times_of_day)}\n",
    "        item = model.rank(user, items, context)[0]\n",
    "        \n",
    "        clicked = reward_func(user, item, context)\n",
    "        n_clicks += clicked\n",
    "        ctr.append(n_clicks / (i + 1))\n",
    "        \n",
    "        # New: pass a context\n",
    "        model.learn_one(user, item, clicked, context)\n",
    "        \n",
    "    plot_ctr(ctr)"
   ]
  },
  {
   "cell_type": "markdown",
   "metadata": {},
   "source": [
    "Not all models are capable of taking into account context. For instance, the `FunkMF` model only models users and items. It completely ignores the context, even when we provide one. All recommender models inherit from the base `Recommender` class. They also have a property which indicates whether or not they are able to handle context:"
   ]
  },
  {
   "cell_type": "code",
   "execution_count": 10,
   "metadata": {
    "execution": {
     "iopub.execute_input": "2022-02-04T11:39:07.490829Z",
     "iopub.status.busy": "2022-02-04T11:39:07.490388Z",
     "iopub.status.idle": "2022-02-04T11:39:07.495251Z",
     "shell.execute_reply": "2022-02-04T11:39:07.494605Z"
    }
   },
   "outputs": [
    {
     "data": {
      "text/plain": [
       "False"
      ]
     },
     "execution_count": 10,
     "metadata": {},
     "output_type": "execute_result"
    }
   ],
   "source": [
    "model = reco.FunkMF(seed=10)\n",
    "model.is_contextual"
   ]
  },
  {
   "cell_type": "markdown",
   "metadata": {},
   "source": [
    "Let's see well it performs."
   ]
  },
  {
   "cell_type": "code",
   "execution_count": 11,
   "metadata": {
    "execution": {
     "iopub.execute_input": "2022-02-04T11:39:07.498935Z",
     "iopub.status.busy": "2022-02-04T11:39:07.498488Z",
     "iopub.status.idle": "2022-02-04T11:39:07.770408Z",
     "shell.execute_reply": "2022-02-04T11:39:07.771070Z"
    }
   },
   "outputs": [
    {
     "data": {
      "image/png": "[encoded data removed]",
      "text/plain": [
       "<Figure size 432x288 with 1 Axes>"
      ]
     },
     "metadata": {
      "needs_background": "light"
     },
     "output_type": "display_data"
    }
   ],
   "source": [
    "simulate(5_000, get_reward, model, seed=42)"
   ]
  },
  {
   "cell_type": "markdown",
   "metadata": {},
   "source": [
    "The performance has roughly been divided by half. This is most likely because there are now two times of day, and if the model has learnt preferences for one time of the day, then it's expected to be wrong half of the time.\n",
    "\n",
    "Before delving into recsys models that can handle context, a simple hack is to notice that we can append the time of day to the user. This effectively results in new users which our model can distinguish between. We could apply this trick during the simulation, but we can also override the behavior of the `learn_one` and `rank` methods of our model."
   ]
  },
  {
   "cell_type": "code",
   "execution_count": 12,
   "metadata": {
    "execution": {
     "iopub.execute_input": "2022-02-04T11:39:07.776596Z",
     "iopub.status.busy": "2022-02-04T11:39:07.776090Z",
     "iopub.status.idle": "2022-02-04T11:39:08.065153Z",
     "shell.execute_reply": "2022-02-04T11:39:08.065790Z"
    }
   },
   "outputs": [
    {
     "data": {
      "image/png": "[encoded data removed]",
      "text/plain": [
       "<Figure size 432x288 with 1 Axes>"
      ]
     },
     "metadata": {
      "needs_background": "light"
     },
     "output_type": "display_data"
    }
   ],
   "source": [
    "class FunkMFWithHack(reco.FunkMF):\n",
    "\n",
    "    def learn_one(self, user, item, reward, context):\n",
    "        user = f\"{user}@{context['time_of_day']}\"\n",
    "        return super().learn_one(user, item, reward, context)\n",
    "\n",
    "    def rank(self, user, items, context):\n",
    "        user = f\"{user}@{context['time_of_day']}\"\n",
    "        return super().rank(user, items, context)\n",
    "\n",
    "model = FunkMFWithHack(seed=29)\n",
    "simulate(5_000, get_reward, model, seed=42)"
   ]
  },
  {
   "cell_type": "markdown",
   "metadata": {},
   "source": [
    "We can verify that the model has learnt the correct preferences by looking at the expected preference for each `(user, item)` pair."
   ]
  },
  {
   "cell_type": "code",
   "execution_count": 13,
   "metadata": {
    "execution": {
     "iopub.execute_input": "2022-02-04T11:39:08.068783Z",
     "iopub.status.busy": "2022-02-04T11:39:08.068317Z",
     "iopub.status.idle": "2022-02-04T11:39:08.114679Z",
     "shell.execute_reply": "2022-02-04T11:39:08.115368Z"
    }
   },
   "outputs": [
    {
     "data": {
      "text/html": [
       "<style type=\"text/css\">\n",
       "#T_77953_row0_col5, #T_77953_row1_col6, #T_77953_row2_col4, #T_77953_row3_col5 {\n",
       "  background-color: lightgreen;\n",
       "}\n",
       "</style>\n",
       "<table id=\"T_77953\">\n",
       "  <thead>\n",
       "    <tr>\n",
       "      <th class=\"blank level0\" >&nbsp;</th>\n",
       "      <th id=\"T_77953_level0_col0\" class=\"col_heading level0 col0\" colspan=\"7\">preference</th>\n",
       "    </tr>\n",
       "    <tr>\n",
       "      <th class=\"index_name level1\" >item</th>\n",
       "      <th id=\"T_77953_level1_col0\" class=\"col_heading level1 col0\" >camping</th>\n",
       "      <th id=\"T_77953_level1_col1\" class=\"col_heading level1 col1\" >finance</th>\n",
       "      <th id=\"T_77953_level1_col2\" class=\"col_heading level1 col2\" >food</th>\n",
       "      <th id=\"T_77953_level1_col3\" class=\"col_heading level1 col3\" >health</th>\n",
       "      <th id=\"T_77953_level1_col4\" class=\"col_heading level1 col4\" >music</th>\n",
       "      <th id=\"T_77953_level1_col5\" class=\"col_heading level1 col5\" >politics</th>\n",
       "      <th id=\"T_77953_level1_col6\" class=\"col_heading level1 col6\" >sports</th>\n",
       "    </tr>\n",
       "    <tr>\n",
       "      <th class=\"index_name level0\" >user</th>\n",
       "      <th class=\"blank col0\" >&nbsp;</th>\n",
       "      <th class=\"blank col1\" >&nbsp;</th>\n",
       "      <th class=\"blank col2\" >&nbsp;</th>\n",
       "      <th class=\"blank col3\" >&nbsp;</th>\n",
       "      <th class=\"blank col4\" >&nbsp;</th>\n",
       "      <th class=\"blank col5\" >&nbsp;</th>\n",
       "      <th class=\"blank col6\" >&nbsp;</th>\n",
       "    </tr>\n",
       "  </thead>\n",
       "  <tbody>\n",
       "    <tr>\n",
       "      <th id=\"T_77953_level0_row0\" class=\"row_heading level0 row0\" >Anna@afternoon</th>\n",
       "      <td id=\"T_77953_row0_col0\" class=\"data row0 col0\" >0.032865</td>\n",
       "      <td id=\"T_77953_row0_col1\" class=\"data row0 col1\" >-0.059041</td>\n",
       "      <td id=\"T_77953_row0_col2\" class=\"data row0 col2\" >0.069222</td>\n",
       "      <td id=\"T_77953_row0_col3\" class=\"data row0 col3\" >0.068174</td>\n",
       "      <td id=\"T_77953_row0_col4\" class=\"data row0 col4\" >-0.000087</td>\n",
       "      <td id=\"T_77953_row0_col5\" class=\"data row0 col5\" >1.000000</td>\n",
       "      <td id=\"T_77953_row0_col6\" class=\"data row0 col6\" >0.195960</td>\n",
       "    </tr>\n",
       "    <tr>\n",
       "      <th id=\"T_77953_level0_row1\" class=\"row_heading level0 row1\" >Anna@morning</th>\n",
       "      <td id=\"T_77953_row1_col0\" class=\"data row1 col0\" >0.081131</td>\n",
       "      <td id=\"T_77953_row1_col1\" class=\"data row1 col1\" >-0.136399</td>\n",
       "      <td id=\"T_77953_row1_col2\" class=\"data row1 col2\" >0.076300</td>\n",
       "      <td id=\"T_77953_row1_col3\" class=\"data row1 col3\" >0.101267</td>\n",
       "      <td id=\"T_77953_row1_col4\" class=\"data row1 col4\" >-0.296730</td>\n",
       "      <td id=\"T_77953_row1_col5\" class=\"data row1 col5\" >0.221890</td>\n",
       "      <td id=\"T_77953_row1_col6\" class=\"data row1 col6\" >1.000000</td>\n",
       "    </tr>\n",
       "    <tr>\n",
       "      <th id=\"T_77953_level0_row2\" class=\"row_heading level0 row2\" >Tom@afternoon</th>\n",
       "      <td id=\"T_77953_row2_col0\" class=\"data row2 col0\" >-0.072447</td>\n",
       "      <td id=\"T_77953_row2_col1\" class=\"data row2 col1\" >-0.099751</td>\n",
       "      <td id=\"T_77953_row2_col2\" class=\"data row2 col2\" >0.012231</td>\n",
       "      <td id=\"T_77953_row2_col3\" class=\"data row2 col3\" >0.061643</td>\n",
       "      <td id=\"T_77953_row2_col4\" class=\"data row2 col4\" >1.000000</td>\n",
       "      <td id=\"T_77953_row2_col5\" class=\"data row2 col5\" >-0.048173</td>\n",
       "      <td id=\"T_77953_row2_col6\" class=\"data row2 col6\" >-0.234817</td>\n",
       "    </tr>\n",
       "    <tr>\n",
       "      <th id=\"T_77953_level0_row3\" class=\"row_heading level0 row3\" >Tom@morning</th>\n",
       "      <td id=\"T_77953_row3_col0\" class=\"data row3 col0\" >-0.005428</td>\n",
       "      <td id=\"T_77953_row3_col1\" class=\"data row3 col1\" >-0.050107</td>\n",
       "      <td id=\"T_77953_row3_col2\" class=\"data row3 col2\" >0.061163</td>\n",
       "      <td id=\"T_77953_row3_col3\" class=\"data row3 col3\" >0.063252</td>\n",
       "      <td id=\"T_77953_row3_col4\" class=\"data row3 col4\" >-0.126655</td>\n",
       "      <td id=\"T_77953_row3_col5\" class=\"data row3 col5\" >1.000000</td>\n",
       "      <td id=\"T_77953_row3_col6\" class=\"data row3 col6\" >0.125515</td>\n",
       "    </tr>\n",
       "  </tbody>\n",
       "</table>\n"
      ],
      "text/plain": [
       "<pandas.io.formats.style.Styler at 0x7f43bc9f6f40>"
      ]
     },
     "execution_count": 13,
     "metadata": {},
     "output_type": "execute_result"
    }
   ],
   "source": [
    "import pandas as pd\n",
    "\n",
    "(\n",
    "    pd.DataFrame(\n",
    "        {\n",
    "            'user': user,\n",
    "            'item': item,\n",
    "            'preference': model.predict_one(user, item)\n",
    "        }\n",
    "        for user in model.u_latents\n",
    "        for item in model.i_latents\n",
    "    )\n",
    "    .pivot('user', 'item')\n",
    "    .style.highlight_max(color='lightgreen', axis='columns')\n",
    ")"
   ]
  }
 ],
 "metadata": {
  "interpreter": {
   "hash": "e6e87bad9c8c768904c061eafcb4f6739260ff8bb57f302c215ab258ded773dc"
  },
  "kernelspec": {
   "display_name": "river",
   "language": "python",
   "name": "python3"
  },
  "language_info": {
   "codemirror_mode": {
    "name": "ipython",
    "version": 3
   },
   "file_extension": ".py",
   "mimetype": "text/x-python",
   "name": "python",
   "nbconvert_exporter": "python",
   "pygments_lexer": "ipython3",
   "version": "3.8.12"
  }
 },
 "nbformat": 4,
 "nbformat_minor": 4
}
