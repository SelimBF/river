{
 "cells": [
  {
   "cell_type": "markdown",
   "metadata": {},
   "source": [
    "# Pipelines"
   ]
  },
  {
   "cell_type": "markdown",
   "metadata": {},
   "source": [
    "Pipelines are an integral part of river. We encourage their usage and apply them in many of their examples.\n",
    "\n",
    "The `compose.Pipeline` contains all the logic for building and applying pipelines. A pipeline is essentially a list of estimators that are applied in sequence. The only requirement is that the first `n - 1` steps be transformers. The last step can be a regressor, a classifier, a clusterer, a transformer, etc. Here is an example:"
   ]
  },
  {
   "cell_type": "code",
   "execution_count": 1,
   "metadata": {
    "execution": {
     "iopub.execute_input": "2022-02-04T12:03:17.506413Z",
     "iopub.status.busy": "2022-02-04T12:03:17.505963Z",
     "iopub.status.idle": "2022-02-04T12:03:20.191189Z",
     "shell.execute_reply": "2022-02-04T12:03:20.190679Z"
    },
    "tags": []
   },
   "outputs": [],
   "source": [
    "from river import compose\n",
    "from river import linear_model\n",
    "from river import preprocessing\n",
    "from river import feature_extraction\n",
    "\n",
    "model = compose.Pipeline(\n",
    "    preprocessing.StandardScaler(),\n",
    "    feature_extraction.PolynomialExtender(),\n",
    "    linear_model.LinearRegression()\n",
    ")"
   ]
  },
  {
   "cell_type": "markdown",
   "metadata": {},
   "source": [
    "You can also use the `|` operator, as so:"
   ]
  },
  {
   "cell_type": "code",
   "execution_count": 2,
   "metadata": {
    "execution": {
     "iopub.execute_input": "2022-02-04T12:03:20.195692Z",
     "iopub.status.busy": "2022-02-04T12:03:20.195169Z",
     "iopub.status.idle": "2022-02-04T12:03:20.197878Z",
     "shell.execute_reply": "2022-02-04T12:03:20.198221Z"
    },
    "tags": []
   },
   "outputs": [],
   "source": [
    "model = (\n",
    "    preprocessing.StandardScaler() |\n",
    "    feature_extraction.PolynomialExtender() |\n",
    "    linear_model.LinearRegression()\n",
    ")"
   ]
  },
  {
   "cell_type": "markdown",
   "metadata": {},
   "source": [
    "Or, equally:"
   ]
  },
  {
   "cell_type": "code",
   "execution_count": 3,
   "metadata": {
    "execution": {
     "iopub.execute_input": "2022-02-04T12:03:20.202553Z",
     "iopub.status.busy": "2022-02-04T12:03:20.201536Z",
     "iopub.status.idle": "2022-02-04T12:03:20.203166Z",
     "shell.execute_reply": "2022-02-04T12:03:20.203526Z"
    },
    "tags": []
   },
   "outputs": [],
   "source": [
    "model = preprocessing.StandardScaler() \n",
    "model |= feature_extraction.PolynomialExtender()\n",
    "model |= linear_model.LinearRegression()"
   ]
  },
  {
   "cell_type": "markdown",
   "metadata": {},
   "source": [
    "A pipeline has a `draw` method that can be used to visualize it:"
   ]
  },
  {
   "cell_type": "code",
   "execution_count": 4,
   "metadata": {
    "execution": {
     "iopub.execute_input": "2022-02-04T12:03:20.211193Z",
     "iopub.status.busy": "2022-02-04T12:03:20.208740Z",
     "iopub.status.idle": "2022-02-04T12:03:20.213458Z",
     "shell.execute_reply": "2022-02-04T12:03:20.213818Z"
    },
    "tags": []
   },
   "outputs": [
    {
     "data": {
      "text/html": [
       "<div><div class=\"component pipeline\"><details class=\"component estimator\"><summary><pre class=\"estimator-name\">StandardScaler</pre></summary><code class=\"estimator-params\">\n",
       "{'counts': Counter(),\n",
       " 'means': defaultdict(&lt;class 'float'&gt;, {}),\n",
       " 'vars': defaultdict(&lt;class 'float'&gt;, {}),\n",
       " 'with_std': True}\n",
       "\n",
       "</code></details><details class=\"component estimator\"><summary><pre class=\"estimator-name\">PolynomialExtender</pre></summary><code class=\"estimator-params\">\n",
       "{'bias_name': 'bias',\n",
       " 'degree': 2,\n",
       " 'include_bias': False,\n",
       " 'interaction_only': False}\n",
       "\n",
       "</code></details><details class=\"component estimator\"><summary><pre class=\"estimator-name\">LinearRegression</pre></summary><code class=\"estimator-params\">\n",
       "{'_weights': {},\n",
       " '_y_name': None,\n",
       " 'clip_gradient': 1000000000000.0,\n",
       " 'initializer': Zeros (),\n",
       " 'intercept': 0.0,\n",
       " 'intercept_init': 0.0,\n",
       " 'intercept_lr': Constant({'learning_rate': 0.01}),\n",
       " 'l2': 0.0,\n",
       " 'loss': Squared({}),\n",
       " 'optimizer': SGD({'lr': Constant({'learning_rate': 0.01}), 'n_iterations': 0})}\n",
       "\n",
       "</code></details></div><style scoped>\n",
       ".estimator {\n",
       "    padding: 1em;\n",
       "    border-style: solid;\n",
       "    background: white;\n",
       "}\n",
       "\n",
       ".pipeline {\n",
       "    display: flex;\n",
       "    flex-direction: column;\n",
       "    align-items: center;\n",
       "    background: linear-gradient(#000, #000) no-repeat center / 3px 100%;\n",
       "}\n",
       "\n",
       ".union {\n",
       "    display: flex;\n",
       "    flex-direction: row;\n",
       "    align-items: center;\n",
       "    justify-content: center;\n",
       "    padding: 1em;\n",
       "    border-style: solid;\n",
       "    background: white\n",
       "}\n",
       "\n",
       ".wrapper {\n",
       "    display: flex;\n",
       "    flex-direction: column;\n",
       "    align-items: center;\n",
       "    justify-content: center;\n",
       "    padding: 1em;\n",
       "    border-style: solid;\n",
       "    background: white;\n",
       "}\n",
       "\n",
       ".wrapper > .estimator {\n",
       "    margin-top: 1em;\n",
       "}\n",
       "\n",
       "/* Vertical spacing between steps */\n",
       "\n",
       ".component + .component {\n",
       "    margin-top: 2em;\n",
       "}\n",
       "\n",
       ".union > .estimator {\n",
       "    margin-top: 0;\n",
       "}\n",
       "\n",
       ".union > .pipeline {\n",
       "    margin-top: 0;\n",
       "}\n",
       "\n",
       "/* Spacing within a union of estimators */\n",
       "\n",
       ".union > .component + .component {\n",
       "    margin-left: 1em;\n",
       "}\n",
       "\n",
       "/* Typography */\n",
       "\n",
       ".estimator-params {\n",
       "    display: block;\n",
       "    white-space: pre-wrap;\n",
       "    font-size: 120%;\n",
       "    margin-bottom: -1em;\n",
       "}\n",
       "\n",
       ".estimator > code,\n",
       ".wrapper > details > code {\n",
       "    background-color: white !important;\n",
       "}\n",
       "\n",
       ".estimator-name {\n",
       "    display: inline;\n",
       "    margin: 0;\n",
       "    font-size: 130%;\n",
       "}\n",
       "\n",
       "/* Toggle */\n",
       "\n",
       "summary {\n",
       "    display: flex;\n",
       "    align-items:center;\n",
       "    cursor: pointer;\n",
       "}\n",
       "\n",
       "summary > div {\n",
       "    width: 100%;\n",
       "}\n",
       "</style></div>"
      ],
      "text/plain": [
       "Pipeline (\n",
       "  StandardScaler (\n",
       "    with_std=True\n",
       "  ),\n",
       "  PolynomialExtender (\n",
       "    degree=2\n",
       "    interaction_only=False\n",
       "    include_bias=False\n",
       "    bias_name=\"bias\"\n",
       "  ),\n",
       "  LinearRegression (\n",
       "    optimizer=SGD (\n",
       "      lr=Constant (\n",
       "        learning_rate=0.01\n",
       "      )\n",
       "    )\n",
       "    loss=Squared ()\n",
       "    l2=0.\n",
       "    intercept_init=0.\n",
       "    intercept_lr=Constant (\n",
       "      learning_rate=0.01\n",
       "    )\n",
       "    clip_gradient=1e+12\n",
       "    initializer=Zeros ()\n",
       "  )\n",
       ")"
      ]
     },
     "execution_count": 4,
     "metadata": {},
     "output_type": "execute_result"
    }
   ],
   "source": [
    "model"
   ]
  },
  {
   "cell_type": "markdown",
   "metadata": {},
   "source": [
    "`compose.Pipeline` inherits from `base.Estimator`, which means that it has a `learn_one` method. You would expect `learn_one` to update each estimator, but **that's not actually what happens**. Instead, the transformers are updated when `predict_one` (or `predict_proba_one` for that matter) is called. Indeed, in online machine learning, we can update the unsupervised parts of our model when a sample arrives. We don't have to wait for the ground truth to arrive in order to update unsupervised estimators that don't depend on it. In other words, in a pipeline, `learn_one` updates the supervised parts, whilst `predict_one` updates the unsupervised parts. It's important to be aware of this behavior, as it is quite different to what is done in other libraries that rely on batch machine learning.\n",
    "\n",
    "Here is a small example to illustrate the previous point:"
   ]
  },
  {
   "cell_type": "code",
   "execution_count": 5,
   "metadata": {
    "execution": {
     "iopub.execute_input": "2022-02-04T12:03:20.217424Z",
     "iopub.status.busy": "2022-02-04T12:03:20.216938Z",
     "iopub.status.idle": "2022-02-04T12:03:20.221498Z",
     "shell.execute_reply": "2022-02-04T12:03:20.221039Z"
    },
    "tags": []
   },
   "outputs": [
    {
     "data": {
      "text/plain": [
       "({'ordinal_date': 736389,\n",
       "  'gallup': 43.843213,\n",
       "  'ipsos': 46.19925042857143,\n",
       "  'morning_consult': 48.318749,\n",
       "  'rasmussen': 44.104692,\n",
       "  'you_gov': 43.636914000000004},\n",
       " 43.75505)"
      ]
     },
     "execution_count": 5,
     "metadata": {},
     "output_type": "execute_result"
    }
   ],
   "source": [
    "from river import datasets\n",
    "\n",
    "dataset = datasets.TrumpApproval()\n",
    "x, y = next(iter(dataset))\n",
    "x, y"
   ]
  },
  {
   "cell_type": "markdown",
   "metadata": {},
   "source": [
    "Let us call `predict_one`, which will update each transformer, but won't update the linear regression."
   ]
  },
  {
   "cell_type": "code",
   "execution_count": 6,
   "metadata": {
    "execution": {
     "iopub.execute_input": "2022-02-04T12:03:20.225171Z",
     "iopub.status.busy": "2022-02-04T12:03:20.224727Z",
     "iopub.status.idle": "2022-02-04T12:03:20.228824Z",
     "shell.execute_reply": "2022-02-04T12:03:20.229169Z"
    },
    "tags": []
   },
   "outputs": [
    {
     "data": {
      "text/plain": [
       "0.0"
      ]
     },
     "execution_count": 6,
     "metadata": {},
     "output_type": "execute_result"
    }
   ],
   "source": [
    "model.predict_one(x)"
   ]
  },
  {
   "cell_type": "markdown",
   "metadata": {},
   "source": [
    "The prediction is nil because each weight of the linear regression is equal to 0."
   ]
  },
  {
   "cell_type": "code",
   "execution_count": 7,
   "metadata": {
    "execution": {
     "iopub.execute_input": "2022-02-04T12:03:20.233264Z",
     "iopub.status.busy": "2022-02-04T12:03:20.232811Z",
     "iopub.status.idle": "2022-02-04T12:03:20.234617Z",
     "shell.execute_reply": "2022-02-04T12:03:20.234953Z"
    },
    "tags": []
   },
   "outputs": [
    {
     "data": {
      "text/plain": [
       "defaultdict(float,\n",
       "            {'ordinal_date': 736389.0,\n",
       "             'gallup': 43.843213,\n",
       "             'ipsos': 46.19925042857143,\n",
       "             'morning_consult': 48.318749,\n",
       "             'rasmussen': 44.104692,\n",
       "             'you_gov': 43.636914000000004})"
      ]
     },
     "execution_count": 7,
     "metadata": {},
     "output_type": "execute_result"
    }
   ],
   "source": [
    "model['StandardScaler'].means"
   ]
  },
  {
   "cell_type": "markdown",
   "metadata": {},
   "source": [
    "As we can see, the means of each feature have been updated, even though we called `predict_one` and not `learn_one`.\n",
    "\n",
    "Note that if you call `transform_one` with a pipeline who's last step is not a transformer, then the output from the last transformer (which is thus the penultimate step) will be returned:"
   ]
  },
  {
   "cell_type": "code",
   "execution_count": 8,
   "metadata": {
    "execution": {
     "iopub.execute_input": "2022-02-04T12:03:20.240239Z",
     "iopub.status.busy": "2022-02-04T12:03:20.239762Z",
     "iopub.status.idle": "2022-02-04T12:03:20.242024Z",
     "shell.execute_reply": "2022-02-04T12:03:20.242381Z"
    },
    "tags": []
   },
   "outputs": [
    {
     "data": {
      "text/plain": [
       "{'ordinal_date': 0.0,\n",
       " 'gallup': 0.0,\n",
       " 'ipsos': 0.0,\n",
       " 'morning_consult': 0.0,\n",
       " 'rasmussen': 0.0,\n",
       " 'you_gov': 0.0,\n",
       " 'ordinal_date*ordinal_date': 0.0,\n",
       " 'gallup*ordinal_date': 0.0,\n",
       " 'ipsos*ordinal_date': 0.0,\n",
       " 'morning_consult*ordinal_date': 0.0,\n",
       " 'ordinal_date*rasmussen': 0.0,\n",
       " 'ordinal_date*you_gov': 0.0,\n",
       " 'gallup*gallup': 0.0,\n",
       " 'gallup*ipsos': 0.0,\n",
       " 'gallup*morning_consult': 0.0,\n",
       " 'gallup*rasmussen': 0.0,\n",
       " 'gallup*you_gov': 0.0,\n",
       " 'ipsos*ipsos': 0.0,\n",
       " 'ipsos*morning_consult': 0.0,\n",
       " 'ipsos*rasmussen': 0.0,\n",
       " 'ipsos*you_gov': 0.0,\n",
       " 'morning_consult*morning_consult': 0.0,\n",
       " 'morning_consult*rasmussen': 0.0,\n",
       " 'morning_consult*you_gov': 0.0,\n",
       " 'rasmussen*rasmussen': 0.0,\n",
       " 'rasmussen*you_gov': 0.0,\n",
       " 'you_gov*you_gov': 0.0}"
      ]
     },
     "execution_count": 8,
     "metadata": {},
     "output_type": "execute_result"
    }
   ],
   "source": [
    "model.transform_one(x)"
   ]
  },
  {
   "cell_type": "markdown",
   "metadata": {},
   "source": [
    "In many cases, you might want to connect a step to multiple steps. For instance, you might to extract different kinds of features from a single input. An elegant way to do this is to use a `compose.TransformerUnion`. Essentially, the latter is a list of transformers who's results will be merged into a single `dict` when `transform_one` is called. As an example let's say that we want to apply a `feature_extraction.RBFSampler` as well as the `feature_extraction.PolynomialExtender`. This may be done as so:"
   ]
  },
  {
   "cell_type": "code",
   "execution_count": 9,
   "metadata": {
    "execution": {
     "iopub.execute_input": "2022-02-04T12:03:20.248991Z",
     "iopub.status.busy": "2022-02-04T12:03:20.245204Z",
     "iopub.status.idle": "2022-02-04T12:03:20.251012Z",
     "shell.execute_reply": "2022-02-04T12:03:20.251371Z"
    },
    "tags": []
   },
   "outputs": [
    {
     "data": {
      "text/html": [
       "<div><div class=\"component pipeline\"><details class=\"component estimator\"><summary><pre class=\"estimator-name\">StandardScaler</pre></summary><code class=\"estimator-params\">\n",
       "{'counts': Counter(),\n",
       " 'means': defaultdict(&lt;class 'float'&gt;, {}),\n",
       " 'vars': defaultdict(&lt;class 'float'&gt;, {}),\n",
       " 'with_std': True}\n",
       "\n",
       "</code></details><div class=\"component union\"><details class=\"component estimator\"><summary><pre class=\"estimator-name\">PolynomialExtender</pre></summary><code class=\"estimator-params\">\n",
       "{'bias_name': 'bias',\n",
       " 'degree': 2,\n",
       " 'include_bias': False,\n",
       " 'interaction_only': False}\n",
       "\n",
       "</code></details><details class=\"component estimator\"><summary><pre class=\"estimator-name\">RBFSampler</pre></summary><code class=\"estimator-params\">\n",
       "{'gamma': 1.0,\n",
       " 'n_components': 100,\n",
       " 'offsets': [1.5060106647222133,\n",
       "             2.6034689044247674,\n",
       "             1.2131597486191208,\n",
       "             2.8528824370097565,\n",
       "             1.547777880674653,\n",
       "             2.6860799546126457,\n",
       "             3.823738005644809,\n",
       "             2.9122542045431397,\n",
       "             0.3622485528708185,\n",
       "             4.321639731619133,\n",
       "             3.4999082797524617,\n",
       "             2.7307470896255186,\n",
       "             3.7256898219722796,\n",
       "             1.8610934739321743,\n",
       "             3.4757993906213485,\n",
       "             2.640507813238735,\n",
       "             2.882929344665141,\n",
       "             2.47567441761014,\n",
       "             4.668441607218256,\n",
       "             2.0318261221255587,\n",
       "             1.1310678881964635,\n",
       "             0.3226280603795658,\n",
       "             3.6336177478045815,\n",
       "             5.511692597050298,\n",
       "             5.299424645576236,\n",
       "             1.4070203482123034,\n",
       "             0.8821135074656844,\n",
       "             3.160467249754435,\n",
       "             5.29084005698071,\n",
       "             4.1195220183361165,\n",
       "             3.905336625516549,\n",
       "             3.657133326849328,\n",
       "             2.0690328914455978,\n",
       "             4.967745258456177,\n",
       "             2.2326929387236705,\n",
       "             4.209796769682964,\n",
       "             3.2091585973181855,\n",
       "             0.9110253197411926,\n",
       "             0.7000586149136465,\n",
       "             0.38263506026287253,\n",
       "             0.5326918128051635,\n",
       "             3.3585282560504153,\n",
       "             5.456015064324599,\n",
       "             3.505015771004868,\n",
       "             2.1800303926667306,\n",
       "             3.753743433454299,\n",
       "             0.33371296442464343,\n",
       "             2.6999506358083,\n",
       "             2.173680172268225,\n",
       "             4.5736154376413225,\n",
       "             3.2089517368273146,\n",
       "             3.2798020487074617,\n",
       "             1.75394185764309,\n",
       "             4.867045721752947,\n",
       "             5.070148250053819,\n",
       "             6.055598830438077,\n",
       "             2.6539950904969523,\n",
       "             0.24485150608346753,\n",
       "             2.1652568874731895,\n",
       "             0.3392911613378129,\n",
       "             5.357447619836394,\n",
       "             0.21512163009545193,\n",
       "             3.95175371386896,\n",
       "             2.7087608550233875,\n",
       "             0.4135763107885848,\n",
       "             4.386155036707577,\n",
       "             2.294862266693412,\n",
       "             2.6867473480711705,\n",
       "             2.1521373886955995,\n",
       "             3.1188826223867303,\n",
       "             0.8955169159385726,\n",
       "             4.661575626517926,\n",
       "             3.869996870777674,\n",
       "             0.7615206458075333,\n",
       "             2.13510755579767,\n",
       "             1.7790256625382574,\n",
       "             1.3423192370287704,\n",
       "             5.729089575999352,\n",
       "             0.42669550298400927,\n",
       "             2.843773327253323,\n",
       "             2.5584116276489604,\n",
       "             0.4109592165962681,\n",
       "             3.2019915998559663,\n",
       "             3.013841479756302,\n",
       "             4.944212739819097,\n",
       "             5.464252270934389,\n",
       "             4.787103096095097,\n",
       "             5.9728341024483855,\n",
       "             3.1145680060705483,\n",
       "             1.308550276796948,\n",
       "             4.031223405548958,\n",
       "             1.977306187761009,\n",
       "             4.099005508874053,\n",
       "             4.743783793071086,\n",
       "             2.1370099313960322,\n",
       "             3.4767982494351224,\n",
       "             4.998665422624538,\n",
       "             1.6153109834049966,\n",
       "             2.1081509287107427,\n",
       "             1.762883104041601],\n",
       " 'rng': &lt;random.Random object at 0x5626d72dda60&gt;,\n",
       " 'seed': None,\n",
       " 'weights': defaultdict(&lt;bound method RBFSampler._random_weights of RBFSampler (\n",
       "  gamma=1.\n",
       "  n_components=100\n",
       "  seed=None\n",
       ")&gt;, {})}\n",
       "\n",
       "</code></details></div><details class=\"component estimator\"><summary><pre class=\"estimator-name\">LinearRegression</pre></summary><code class=\"estimator-params\">\n",
       "{'_weights': {},\n",
       " '_y_name': None,\n",
       " 'clip_gradient': 1000000000000.0,\n",
       " 'initializer': Zeros (),\n",
       " 'intercept': 0.0,\n",
       " 'intercept_init': 0.0,\n",
       " 'intercept_lr': Constant({'learning_rate': 0.01}),\n",
       " 'l2': 0.0,\n",
       " 'loss': Squared({}),\n",
       " 'optimizer': SGD({'lr': Constant({'learning_rate': 0.01}), 'n_iterations': 0})}\n",
       "\n",
       "</code></details></div><style scoped>\n",
       ".estimator {\n",
       "    padding: 1em;\n",
       "    border-style: solid;\n",
       "    background: white;\n",
       "}\n",
       "\n",
       ".pipeline {\n",
       "    display: flex;\n",
       "    flex-direction: column;\n",
       "    align-items: center;\n",
       "    background: linear-gradient(#000, #000) no-repeat center / 3px 100%;\n",
       "}\n",
       "\n",
       ".union {\n",
       "    display: flex;\n",
       "    flex-direction: row;\n",
       "    align-items: center;\n",
       "    justify-content: center;\n",
       "    padding: 1em;\n",
       "    border-style: solid;\n",
       "    background: white\n",
       "}\n",
       "\n",
       ".wrapper {\n",
       "    display: flex;\n",
       "    flex-direction: column;\n",
       "    align-items: center;\n",
       "    justify-content: center;\n",
       "    padding: 1em;\n",
       "    border-style: solid;\n",
       "    background: white;\n",
       "}\n",
       "\n",
       ".wrapper > .estimator {\n",
       "    margin-top: 1em;\n",
       "}\n",
       "\n",
       "/* Vertical spacing between steps */\n",
       "\n",
       ".component + .component {\n",
       "    margin-top: 2em;\n",
       "}\n",
       "\n",
       ".union > .estimator {\n",
       "    margin-top: 0;\n",
       "}\n",
       "\n",
       ".union > .pipeline {\n",
       "    margin-top: 0;\n",
       "}\n",
       "\n",
       "/* Spacing within a union of estimators */\n",
       "\n",
       ".union > .component + .component {\n",
       "    margin-left: 1em;\n",
       "}\n",
       "\n",
       "/* Typography */\n",
       "\n",
       ".estimator-params {\n",
       "    display: block;\n",
       "    white-space: pre-wrap;\n",
       "    font-size: 120%;\n",
       "    margin-bottom: -1em;\n",
       "}\n",
       "\n",
       ".estimator > code,\n",
       ".wrapper > details > code {\n",
       "    background-color: white !important;\n",
       "}\n",
       "\n",
       ".estimator-name {\n",
       "    display: inline;\n",
       "    margin: 0;\n",
       "    font-size: 130%;\n",
       "}\n",
       "\n",
       "/* Toggle */\n",
       "\n",
       "summary {\n",
       "    display: flex;\n",
       "    align-items:center;\n",
       "    cursor: pointer;\n",
       "}\n",
       "\n",
       "summary > div {\n",
       "    width: 100%;\n",
       "}\n",
       "</style></div>"
      ],
      "text/plain": [
       "Pipeline (\n",
       "  StandardScaler (\n",
       "    with_std=True\n",
       "  ),\n",
       "  TransformerUnion (\n",
       "    PolynomialExtender (\n",
       "      degree=2\n",
       "      interaction_only=False\n",
       "      include_bias=False\n",
       "      bias_name=\"bias\"\n",
       "    ),\n",
       "    RBFSampler (\n",
       "      gamma=1.\n",
       "      n_components=100\n",
       "      seed=None\n",
       "    )\n",
       "  ),\n",
       "  LinearRegression (\n",
       "    optimizer=SGD (\n",
       "      lr=Constant (\n",
       "        learning_rate=0.01\n",
       "      )\n",
       "    )\n",
       "    loss=Squared ()\n",
       "    l2=0.\n",
       "    intercept_init=0.\n",
       "    intercept_lr=Constant (\n",
       "      learning_rate=0.01\n",
       "    )\n",
       "    clip_gradient=1e+12\n",
       "    initializer=Zeros ()\n",
       "  )\n",
       ")"
      ]
     },
     "execution_count": 9,
     "metadata": {},
     "output_type": "execute_result"
    }
   ],
   "source": [
    "model = (\n",
    "    preprocessing.StandardScaler() |\n",
    "    (feature_extraction.PolynomialExtender() + feature_extraction.RBFSampler()) |\n",
    "    linear_model.LinearRegression()\n",
    ")\n",
    "\n",
    "model"
   ]
  },
  {
   "cell_type": "markdown",
   "metadata": {},
   "source": [
    "Note that the `+` symbol acts as a shorthand notation for creating a `compose.TransformerUnion`, which means that we could have declared the above pipeline as so:"
   ]
  },
  {
   "cell_type": "code",
   "execution_count": 10,
   "metadata": {
    "execution": {
     "iopub.execute_input": "2022-02-04T12:03:20.255397Z",
     "iopub.status.busy": "2022-02-04T12:03:20.254638Z",
     "iopub.status.idle": "2022-02-04T12:03:20.256741Z",
     "shell.execute_reply": "2022-02-04T12:03:20.256327Z"
    },
    "tags": []
   },
   "outputs": [],
   "source": [
    "model = (\n",
    "    preprocessing.StandardScaler() |\n",
    "    compose.TransformerUnion(\n",
    "        feature_extraction.PolynomialExtender(),\n",
    "        feature_extraction.RBFSampler()\n",
    "    ) |\n",
    "    linear_model.LinearRegression()\n",
    ")"
   ]
  },
  {
   "cell_type": "markdown",
   "metadata": {},
   "source": [
    "Pipelines provide the benefit of removing a lot of cruft by taking care of tedious details for you. They also enable to clearly define what steps your model is made of. Finally, having your model in a single object means that you can move it around more easily. Note that you can include user-defined functions in a pipeline by using a `compose.FuncTransformer`."
   ]
  }
 ],
 "metadata": {
  "kernelspec": {
   "display_name": "Python 3",
   "language": "python",
   "name": "python3"
  },
  "language_info": {
   "codemirror_mode": {
    "name": "ipython",
    "version": 3
   },
   "file_extension": ".py",
   "mimetype": "text/x-python",
   "name": "python",
   "nbconvert_exporter": "python",
   "pygments_lexer": "ipython3",
   "version": "3.8.12"
  }
 },
 "nbformat": 4,
 "nbformat_minor": 4
}
